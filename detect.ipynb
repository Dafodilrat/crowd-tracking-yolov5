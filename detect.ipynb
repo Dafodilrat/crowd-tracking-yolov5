{
 "cells": [
  {
   "cell_type": "code",
   "execution_count": 1,
   "metadata": {},
   "outputs": [],
   "source": [
    "import torch\n",
    "import cv2\n",
    "from deepsort import YoloDetector\n",
    "from deep_sort_realtime.deepsort_tracker import DeepSort\n",
    "import time \n",
    "import numpy as np\n",
    "#from drawline import draw_line"
   ]
  },
  {
   "cell_type": "code",
   "execution_count": 2,
   "metadata": {},
   "outputs": [
    {
     "name": "stderr",
     "output_type": "stream",
     "text": [
      "Downloading: \"https://github.com/ultralytics/yolov5/zipball/master\" to /home/dafodilrat/.cache/torch/hub/master.zip\n",
      "YOLOv5 🚀 2023-4-4 Python-3.8.10 torch-1.13.1+cu117 CUDA:0 (NVIDIA GeForce GTX 1650 Ti, 3896MiB)\n",
      "\n",
      "Fusing layers... \n",
      "Model summary: 308 layers, 21041679 parameters, 0 gradients\n",
      "Adding AutoShape... \n"
     ]
    },
    {
     "name": "stdout",
     "output_type": "stream",
     "text": [
      "Using Device:  cuda\n"
     ]
    }
   ],
   "source": [
    "detector=YoloDetector(\"yolov5-crowd/crowdhuman_yolov5m.pt\")"
   ]
  },
  {
   "cell_type": "code",
   "execution_count": 9,
   "metadata": {},
   "outputs": [],
   "source": [
    "object_tracker = DeepSort(max_age=5,\n",
    "                n_init=2,\n",
    "                nms_max_overlap=1.0,\n",
    "                max_cosine_distance=0.3,\n",
    "                nn_budget=None,\n",
    "                override_track_class=None,\n",
    "                embedder=\"mobilenet\",\n",
    "                half=True,\n",
    "                bgr=True,\n",
    "                embedder_gpu=True,\n",
    "                embedder_model_name=None,\n",
    "                embedder_wts=None,\n",
    "                polygon=False,\n",
    "                today=None)"
   ]
  },
  {
   "cell_type": "code",
   "execution_count": 20,
   "metadata": {},
   "outputs": [
    {
     "data": {
      "text/plain": [
       "False"
      ]
     },
     "execution_count": 20,
     "metadata": {},
     "output_type": "execute_result"
    }
   ],
   "source": [
    "cap = cv2.VideoCapture(\"cctv.mp4\")\n",
    "cap.set(cv2.CAP_PROP_FRAME_WIDTH, 1280)\n",
    "cap.set(cv2.CAP_PROP_FRAME_HEIGHT, 720)"
   ]
  },
  {
   "cell_type": "code",
   "execution_count": 22,
   "metadata": {},
   "outputs": [],
   "source": [
    "def mean(bbox):\n",
    "\n",
    "  mx=(bbox[0]+bbox[1])/2\n",
    "  my=(bbox[2]+bbox[3])/2\n",
    "\n",
    "  return [mx,my]"
   ]
  },
  {
   "cell_type": "code",
   "execution_count": null,
   "metadata": {},
   "outputs": [],
   "source": []
  },
  {
   "cell_type": "code",
   "execution_count": 23,
   "metadata": {},
   "outputs": [
    {
     "name": "stdout",
     "output_type": "stream",
     "text": [
      "100  :  [529.883948368012, 555.7790466558145]  -  0.0\n",
      "101  :  [462.9999997615814, 507.0000002384186]  -  0.0\n"
     ]
    }
   ],
   "source": [
    "prev_mean={}\n",
    "net_dir={}\n",
    "while cap.isOpened():\n",
    "\n",
    "    succes, img = cap.read()\n",
    " \n",
    "    start = time.perf_counter()\n",
    "    \n",
    "    results = detector.score_frame(img)\n",
    "    img, detections = detector.plot_boxes(results, img, height=img.shape[0], width=img.shape[1], confidence=0.1)\n",
    "        \n",
    "    tracks = object_tracker.update_tracks(detections, frame=img) # bbs expected to be a list of detections, each in tuples of ( [left,top,w,h], confidence, detection_class )\n",
    "\n",
    "    for track in tracks:\n",
    "        if not track.is_confirmed():\n",
    "            continue\n",
    "        track_id = track.track_id\n",
    "        ltrb = track.to_ltrb()\n",
    "        \n",
    "        bbox = ltrb\n",
    "\n",
    "        if track_id not in list(prev_mean.keys()):\n",
    "            \n",
    "            prev_mean[track_id]=mean(bbox)\n",
    "            net_dir[track_id]=0       \n",
    "\n",
    "        t_vec=[mean(bbox)[0]-prev_mean[track_id][0],mean(bbox)[1]-prev_mean[track_id][1]]\n",
    "        \n",
    "        if abs(t_vec[0])>abs(t_vec[1]):\n",
    "            net_dir[track_id]=net_dir[track_id]+np.sign(t_vec[0])\n",
    "        \n",
    "        else:\n",
    "            net_dir[track_id]=net_dir[track_id]+np.sign(t_vec[1])\n",
    "\n",
    "        print(track_id,\" : \",mean(bbox),\" - \",net_dir[track_id])\n",
    "        if net_dir[track_id] <0:\n",
    "             \n",
    "             color=(0,255,0) \n",
    "        else :\n",
    "            color=(0,0,255)\n",
    "\n",
    "        #color=(0,255,0)\n",
    "        overlay=img.copy()\n",
    "        alpha=0.2\n",
    "        cv2.rectangle(overlay,(int(bbox[0]), int(bbox[1])),(int(bbox[2]), int(bbox[3])),color,-1)\n",
    "        cv2.addWeighted(overlay, alpha, img, 1 - alpha,0, img)\n",
    "        cv2.putText(img, \"ID: \" + str(track_id), (int(bbox[0]), int(bbox[1] - 10)), cv2.FONT_HERSHEY_SIMPLEX, 0.9,color, 2)\n",
    "        cv2.rectangle(img,(int(bbox[0]), int(bbox[1])),(int(bbox[2]), int(bbox[3])),color,1)\n",
    "        cv2.line(img, (299,604),(933,488),(255,0,0), 2)\n",
    "        m=\n",
    "        -488-604/933-299\n",
    "        \n",
    "        \n",
    "    end = time.perf_counter()\n",
    "    totalTime = end - start\n",
    "    fps = 1 / totalTime\n",
    "\n",
    "\n",
    "    cv2.putText(img, f'FPS: {int(fps)}', (20,70), cv2.FONT_HERSHEY_SIMPLEX, 1.5, (0,255,0), 2)\n",
    "    cv2.imshow('img',img)\n",
    "\n",
    "\n",
    "    if cv2.waitKey(0) & 0xFF == 27: \n",
    "        cap.release()\n",
    "        cv2.destroyAllWindows()\n"
   ]
  }
 ],
 "metadata": {
  "kernelspec": {
   "display_name": "Python 3",
   "language": "python",
   "name": "python3"
  },
  "language_info": {
   "codemirror_mode": {
    "name": "ipython",
    "version": 3
   },
   "file_extension": ".py",
   "mimetype": "text/x-python",
   "name": "python",
   "nbconvert_exporter": "python",
   "pygments_lexer": "ipython3",
   "version": "3.8.10"
  },
  "orig_nbformat": 4
 },
 "nbformat": 4,
 "nbformat_minor": 2
}
